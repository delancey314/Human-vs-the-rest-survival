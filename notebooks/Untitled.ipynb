{
 "cells": [
  {
   "cell_type": "code",
   "execution_count": 1,
   "metadata": {},
   "outputs": [],
   "source": [
    "import pandas as pd"
   ]
  },
  {
   "cell_type": "code",
   "execution_count": 5,
   "metadata": {},
   "outputs": [],
   "source": [
    "pd.options.display.max_columns = None"
   ]
  },
  {
   "cell_type": "code",
   "execution_count": 8,
   "metadata": {},
   "outputs": [
    {
     "data": {
      "text/plain": [
       "(278, 53)"
      ]
     },
     "execution_count": 8,
     "metadata": {},
     "output_type": "execute_result"
    }
   ],
   "source": [
    "df=pd.read_csv('data/City Indicators.csv')\n",
    "df.shape"
   ]
  },
  {
   "cell_type": "code",
   "execution_count": 14,
   "metadata": {},
   "outputs": [
    {
     "name": "stdout",
     "output_type": "stream",
     "text": [
      "<class 'pandas.core.frame.DataFrame'>\n",
      "RangeIndex: 278 entries, 0 to 277\n",
      "Data columns (total 53 columns):\n",
      "City                                                                                                                    278 non-null object\n",
      "State                                                                                                                   278 non-null object\n",
      "Geo.ID                                                                                                                  278 non-null object\n",
      "Percent of GDP based on water intensive industries_2015                                                                 278 non-null float64\n",
      "Percentage of workforce in Farming Fishing and Forestry 2015                                                            278 non-null float64\n",
      "Existence of drought management plans_2015                                                                              278 non-null object\n",
      "Existence of water management plan_2015                                                                                 278 non-null object\n",
      "Baseline water stress_2014                                                                                              277 non-null float64\n",
      "Readiness to accept adaptation investment_2015                                                                          278 non-null int64\n",
      "Tax incentives for renewable energy_2015                                                                                278 non-null int64\n",
      "Total number of federal public corruption convictions by district_2015                                                  278 non-null int64\n",
      "Civic engagement_2010                                                                                                   278 non-null float64\n",
      "General innovation capabilities_2015                                                                                    278 non-null float64\n",
      "Estimated percent of adults who think global warming is already harming people in the US now or within 10 years_2014    278 non-null int64\n",
      "Percent of population with less than 12th grade education_2015                                                          278 non-null float64\n",
      "Population density_2015                                                                                                 278 non-null float64\n",
      "Water quality_2015                                                                                                      278 non-null int64\n",
      "City debt_2010                                                                                                          274 non-null float64\n",
      "Percent of population in floodzone_2015                                                                                 278 non-null float64\n",
      "Percent of buildings in floodzone_2015                                                                                  278 non-null float64\n",
      "Percent of cars in floodzone_2015                                                                                       275 non-null float64\n",
      "Percent of area that is impervious surface_2011                                                                         278 non-null float64\n",
      "Number of acute care hospital beds available per 1000 residents_2015                                                    278 non-null float64\n",
      "Percent of population that is 65 years old or older living alone_2015                                                   278 non-null float64\n",
      "Percent of population that is 5 years old or younger_2015                                                               278 non-null float64\n",
      "Percent of population with health insurance_2015                                                                        278 non-null float64\n",
      "Percent of buildings built before 1999_2015                                                                             278 non-null float64\n",
      "Percent of population residing in the mobile homes_2015                                                                 278 non-null float64\n",
      "Percent of population spending over 50 percent of income on rent_2015                                                   278 non-null float64\n",
      "Percent of land covered by tree canopy_2011                                                                             278 non-null float64\n",
      "Percent of houses with heating_2015                                                                                     278 non-null float64\n",
      "Percent of population with a disability_2015                                                                            278 non-null float64\n",
      "Percent of population in poverty_2015                                                                                   278 non-null float64\n",
      "Percent of buildings built before 1979_2015                                                                             278 non-null float64\n",
      "Outdoor workers_2015                                                                                                    278 non-null float64\n",
      "Percent of households without access to a vehicle_2015                                                                  278 non-null float64\n",
      "Percent of population in 1ft sea level rise zone_2015                                                                   87 non-null float64\n",
      "Percent of population in 3ft sea level rise zone_2015                                                                   87 non-null float64\n",
      "Average economic impact of 1ft sea level rise_2015                                                                      87 non-null float64\n",
      "Average economic impact of 3ft sea level rise_2015                                                                      87 non-null float64\n",
      "Unnamed: 40                                                                                                             0 non-null float64\n",
      "Latitutde                                                                                                               278 non-null float64\n",
      "Longitude                                                                                                               278 non-null float64\n",
      "County                                                                                                                  278 non-null object\n",
      "Region                                                                                                                  278 non-null object\n",
      " City Area_KM                                                                                                           278 non-null float64\n",
      "2010 Population                                                                                                         278 non-null int64\n",
      "2011 Population                                                                                                         278 non-null int64\n",
      "2012 Population                                                                                                         278 non-null int64\n",
      "2013 Population                                                                                                         278 non-null int64\n",
      "2014 Population                                                                                                         278 non-null int64\n",
      "2015 Population                                                                                                         278 non-null int64\n",
      "Median Income                                                                                                           278 non-null int64\n",
      "dtypes: float64(34), int64(12), object(7)\n",
      "memory usage: 115.2+ KB\n"
     ]
    }
   ],
   "source": [
    "df.info()"
   ]
  },
  {
   "cell_type": "code",
   "execution_count": 10,
   "metadata": {},
   "outputs": [],
   "source": [
    "new_names=['city','state','geo_id','GDP_water_all','perc_fff','d_plan','w_plan','base_w_stress','invest','tax_break','corruption','perc_vote','innovate','climate_real','hs_ed','pop_dens','w_quality','debt','flood_pop','flood_build','flood_car','impervious','beds_1000','alone_65','child_5','health_ins','older_1999','mobile_home','rent_50plus','trees','heating','disabled','poverty','older_1979','work_outside','no_car','pop_under_1ft','pop_under_3ft','impact_plus1ft','impact_plus3ft','column_empty','lat','long','county','region','city_km2','pop_2010','pop_2011','pop_2012','pop_2013','pop_2014','pop_2015','median_income']"
   ]
  },
  {
   "cell_type": "code",
   "execution_count": null,
   "metadata": {},
   "outputs": [],
   "source": [
    "city_indicators=pd.read_csv('data/City Indicators.csv')\n",
    "city_indicators_old=df.columns\n",
    "new_names=['city','state','geo_id','GDP_water_all','perc_fff','d_plan','w_plan','base_w_stress','invest','tax_break','corruption','perc_vote','innovate','climate_real','hs_ed','pop_dens','w_quality','debt','flood_pop','flood_build','flood_car','impervious','beds_1000','alone_65','child_5','health_ins','older_1999','mobile_home','rent_50plus','trees','heating','disabled','poverty','older_1979','work_outside','no_car','pop_under_1ft','pop_under_3ft','impact_plus1ft','impact_plus3ft','lat','long','county','region','city_km2','pop_2010','pop_2011','pop_2012','pop_2013','pop_2014','pop_2015','median_income']\n",
    "features_original = dict(zip(new_names, city_indicators_old))"
   ]
  },
  {
   "cell_type": "code",
   "execution_count": 13,
   "metadata": {},
   "outputs": [
    {
     "data": {
      "text/plain": [
       "{'city': 'City',\n",
       " 'state': 'State',\n",
       " 'geo_id': 'Geo.ID',\n",
       " 'GDP_water_all': 'Percent of GDP based on water intensive industries_2015',\n",
       " 'perc_fff': 'Percentage of workforce in Farming Fishing and Forestry 2015',\n",
       " 'd_plan': 'Existence of drought management plans_2015',\n",
       " 'w_plan': 'Existence of water management plan_2015',\n",
       " 'base_w_stress': 'Baseline water stress_2014',\n",
       " 'invest': 'Readiness to accept adaptation investment_2015',\n",
       " 'tax_break': 'Tax incentives for renewable energy_2015',\n",
       " 'corruption': 'Total number of federal public corruption convictions by district_2015',\n",
       " 'perc_vote': 'Civic engagement_2010',\n",
       " 'innovate': 'General innovation capabilities_2015',\n",
       " 'climate_real': 'Estimated percent of adults who think global warming is already harming people in the US now or within 10 years_2014',\n",
       " 'hs_ed': 'Percent of population with less than 12th grade education_2015',\n",
       " 'pop_dens': 'Population density_2015',\n",
       " 'w_quality': 'Water quality_2015',\n",
       " 'debt': 'City debt_2010',\n",
       " 'flood_pop': 'Percent of population in floodzone_2015',\n",
       " 'flood_build': 'Percent of buildings in floodzone_2015',\n",
       " 'flood_car': 'Percent of cars in floodzone_2015',\n",
       " 'impervious': 'Percent of area that is impervious surface_2011',\n",
       " 'beds_1000': 'Number of acute care hospital beds available per 1000 residents_2015',\n",
       " 'alone_65': 'Percent of population that is 65 years old or older living alone_2015',\n",
       " 'child_5': 'Percent of population that is 5 years old or younger_2015',\n",
       " 'health_ins': 'Percent of population with health insurance_2015',\n",
       " 'older_1999': 'Percent of buildings built before 1999_2015',\n",
       " 'mobile_home': 'Percent of population residing in the mobile homes_2015',\n",
       " 'rent_50plus': 'Percent of population spending over 50 percent of income on rent_2015',\n",
       " 'trees': 'Percent of land covered by tree canopy_2011',\n",
       " 'heating': 'Percent of houses with heating_2015',\n",
       " 'disabled': 'Percent of population with a disability_2015',\n",
       " 'poverty': 'Percent of population in poverty_2015',\n",
       " 'older_1979': 'Percent of buildings built before 1979_2015',\n",
       " 'work_outside': 'Outdoor workers_2015',\n",
       " 'no_car': 'Percent of households without access to a vehicle_2015',\n",
       " 'pop_under_1ft': 'Percent of population in 1ft sea level rise zone_2015',\n",
       " 'pop_under_3ft': 'Percent of population in 3ft sea level rise zone_2015',\n",
       " 'impact_plus1ft': 'Average economic impact of 1ft sea level rise_2015',\n",
       " 'impact_plus3ft': 'Average economic impact of 3ft sea level rise_2015',\n",
       " 'lat': 'Unnamed: 40',\n",
       " 'long': 'Latitutde',\n",
       " 'county': 'Longitude',\n",
       " 'region': 'County',\n",
       " 'city_km2': 'Region',\n",
       " 'pop_2010': ' City Area_KM',\n",
       " 'pop_2011': '2010 Population',\n",
       " 'pop_2012': '2011 Population',\n",
       " 'pop_2013': '2012 Population',\n",
       " 'pop_2014': '2013 Population',\n",
       " 'pop_2015': '2014 Population',\n",
       " 'median_income': '2015 Population'}"
      ]
     },
     "execution_count": 13,
     "metadata": {},
     "output_type": "execute_result"
    }
   ],
   "source": [
    "features_original"
   ]
  },
  {
   "cell_type": "code",
   "execution_count": null,
   "metadata": {},
   "outputs": [],
   "source": []
  },
  {
   "cell_type": "code",
   "execution_count": null,
   "metadata": {},
   "outputs": [],
   "source": []
  }
 ],
 "metadata": {
  "kernelspec": {
   "display_name": "Python 3",
   "language": "python",
   "name": "python3"
  },
  "language_info": {
   "codemirror_mode": {
    "name": "ipython",
    "version": 3
   },
   "file_extension": ".py",
   "mimetype": "text/x-python",
   "name": "python",
   "nbconvert_exporter": "python",
   "pygments_lexer": "ipython3",
   "version": "3.7.3"
  }
 },
 "nbformat": 4,
 "nbformat_minor": 2
}
