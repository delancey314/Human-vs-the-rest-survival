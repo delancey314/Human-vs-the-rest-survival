{
 "cells": [
  {
   "cell_type": "code",
   "execution_count": 1,
   "metadata": {},
   "outputs": [],
   "source": [
    "import pandas as pd\n",
    "from collections import defaultdict\n",
    "from collections import Counter\n",
    "import matplotlib.pyplot as plt\n",
    "from xgboost import XGBClassifier\n",
    "import numpy as np\n"
   ]
  },
  {
   "cell_type": "code",
   "execution_count": 2,
   "metadata": {},
   "outputs": [
    {
     "data": {
      "application/javascript": [
       "IPython.notebook.set_autosave_interval(300000)"
      ]
     },
     "metadata": {},
     "output_type": "display_data"
    },
    {
     "name": "stdout",
     "output_type": "stream",
     "text": [
      "Autosaving every 300 seconds\n"
     ]
    }
   ],
   "source": [
    "%matplotlib inline  \n",
    "%autosave 300\n",
    "pd.options.display.max_columns = None\n",
    "feature_names =defaultdict(lambda:'None')"
   ]
  },
  {
   "cell_type": "markdown",
   "metadata": {},
   "source": [
    "# Classification based on published Data:\n",
    "\n",
    "Risk High/low set at 38.40 Readiness high/low set at 46.51\n"
   ]
  },
  {
   "cell_type": "code",
   "execution_count": 3,
   "metadata": {},
   "outputs": [],
   "source": [
    "def categorize(row):\n",
    "    if row['overall_risk']== 1 and row['overall_readiness']==1:\n",
    "        return 4\n",
    "    elif row['overall_risk']== 1 and row['overall_readiness']==0:\n",
    "        return 3\n",
    "    elif row['overall_readiness'] == 1:\n",
    "        return 2\n",
    "    else:\n",
    "        return 1\n",
    "    \n",
    "risk_ready=pd.read_csv('data/Overall Risk & Readiness Scores.csv')\n",
    "\n",
    "risk_ready_old=risk_ready.columns\n",
    "new_names=['city', 'state', 'geo_id','overall_risk', 'overall_readiness']\n",
    "risk_ready.columns = new_names\n",
    "    \n",
    "# Puerto Rico is being dropped at rows [19, 35, 193, 220] because of data inconsistency\n",
    "risk_ready.drop([19, 35, 193, 220], inplace = True)\n",
    "risk_ready['overall_risk'] = np.where(risk_ready['overall_risk']>=.3840, 1, 0)\n",
    "risk_ready['overall_readiness'] = np.where(risk_ready['overall_readiness']>=.4651, 1, 0)\n",
    "risk_ready['risk_ready_cat']=risk_ready.apply(lambda row: categorize(row), axis=1)\n",
    "\n",
    "risk_ready_dict = dict(zip(new_names, risk_ready_old))\n",
    "feature_names['risk_ready']=risk_ready_dict"
   ]
  },
  {
   "cell_type": "markdown",
   "metadata": {},
   "source": [
    "Clean main data File"
   ]
  },
  {
   "cell_type": "code",
   "execution_count": 6,
   "metadata": {},
   "outputs": [],
   "source": [
    "city_ind = pd.read_csv('data/City Indicators.csv')     \n",
    "\n",
    "\n",
    "city_ind_old=city_ind.columns\n",
    "new_names=['city','state','geo_id','GDP_water_all','perc_fff','d_plan','w_plan','base_w_stress','invest','tax_break','corruption','perc_vote','innovate','climate_real','hs_ed','pop_dens','w_quality','debt','flood_pop','flood_build','flood_car','impervious','beds_1000','alone_65','child_5','health_ins','older_1999','mobile_home','rent_50plus','trees','heating','disabled','poverty','older_1979','work_outside','no_car','pop_under_1ft','pop_under_3ft','impact_plus1ft','impact_plus3ft', 'col_empty','lat','long','county','region','city_km2','pop_2010','pop_2011','pop_2012','pop_2013','pop_2014','pop_2015','median_income']\n",
    "city_ind.columns = new_names\n",
    "\n",
    "city_ind.drop(columns =['col_empty'], inplace= True)\n",
    "indicators_dict = dict(zip(city_ind.columns, city_ind_old))\n",
    "\n",
    "\n",
    "\n",
    "#Puerto Rico is being dropped at rows [19, 35, 193, 220] because of data inconsistency\n",
    "#city_ind.drop([19, 35, 193, 220], inplace = True)\n",
    "#two cities had their order of magnitude incorrect for % of people in floodzone. Their neighboring values match the lower magnitude'\n",
    "city_ind=city_ind.replace(412.9208681,41.29208681)\n",
    "city_ind=city_ind.replace(101.6959823,10.16959823)\n",
    "city_ind.replace('Bayam<U+0086>n','Bayamon')\n",
    "city_ind['risk_ready_cat']= risk_ready['risk_ready_cat']\n",
    "\n",
    "city_ind.drop(columns=['city','state','geo_id','county', 'region','pop_2010', 'pop_2011', 'pop_2012', 'pop_2013', 'pop_2014'], inplace=True)\n",
    "city_ind['d_plan'] = city_ind['d_plan'].map({'Yes': 1, 'No': 0})\n",
    "city_ind['w_plan'] = city_ind['w_plan'].map({'Yes': 1, 'No': 0})\n",
    "city_ind.fillna(0, inplace=True)\n",
    "\n"
   ]
  },
  {
   "cell_type": "code",
   "execution_count": 7,
   "metadata": {},
   "outputs": [
    {
     "data": {
      "text/plain": [
       "Index(['GDP_water_all', 'perc_fff', 'd_plan', 'w_plan', 'base_w_stress',\n",
       "       'invest', 'tax_break', 'corruption', 'perc_vote', 'innovate',\n",
       "       'climate_real', 'hs_ed', 'pop_dens', 'w_quality', 'debt', 'flood_pop',\n",
       "       'flood_build', 'flood_car', 'impervious', 'beds_1000', 'alone_65',\n",
       "       'child_5', 'health_ins', 'older_1999', 'mobile_home', 'rent_50plus',\n",
       "       'trees', 'heating', 'disabled', 'poverty', 'older_1979', 'work_outside',\n",
       "       'no_car', 'pop_under_1ft', 'pop_under_3ft', 'impact_plus1ft',\n",
       "       'impact_plus3ft', 'lat', 'long', 'city_km2', 'pop_2015',\n",
       "       'median_income'],\n",
       "      dtype='object')"
      ]
     },
     "execution_count": 7,
     "metadata": {},
     "output_type": "execute_result"
    }
   ],
   "source": [
    "\n",
    "trees_cat=city_ind['risk_ready_cat']\n",
    "trees_data = city_ind.drop(columns=['risk_ready_cat'])\n",
    "trees_data.columns\n"
   ]
  },
  {
   "cell_type": "code",
   "execution_count": null,
   "metadata": {},
   "outputs": [],
   "source": []
  },
  {
   "cell_type": "markdown",
   "metadata": {},
   "source": [
    "# Calculate Category variables"
   ]
  },
  {
   "cell_type": "code",
   "execution_count": null,
   "metadata": {},
   "outputs": [],
   "source": [
    "\n",
    "# frame one (calc_from_raw) creates the six values for each hazard\n",
    "calc_from_raw =pd.DataFrame()\n",
    "calc_from_raw['cities']= cities\n",
    "\n",
    "calc_from_raw['econ_c']=cleaned['debt']+cleaned['invest']+cleaned['tax_break']\n",
    "calc_from_raw['gov_c']=cleaned['innovate']+cleaned['climate_real']\n",
    "calc_from_raw['social_c']=cleaned['corruption']+cleaned['perc_vote']\n",
    "#make sure to use flood_expos for flood. Use this one for the rest\n",
    "calc_from_raw ['expos_c']=cleaned['pop_2015']\n",
    "\n",
    "#heat - adaption and sensitivity formulas unique\n",
    "calc_from_raw['heat_adapt_c']=cleaned['beds_1000']+cleaned['trees']\n",
    "calc_from_raw['heat_sens_c']=cleaned['alone_65']+cleaned['poverty']+cleaned['disabled']\n",
    "\n",
    "\n",
    "\n",
    "#cold - adaption and sensitivity formulas unique\n",
    "calc_from_raw['cold_adapt_c']=cleaned['beds_1000']+cleaned['heating']\n",
    "calc_from_raw['cold_sens_c']=cleaned['alone_65']+cleaned['work_outside']+cleaned['child_5']\n",
    "\n",
    "#flood - exposure, sensitivity and adaption formulas unique\n",
    "calc_from_raw['flood_expos_c']=cleaned['flood_pop']+cleaned['flood_build']\n",
    "calc_from_raw['flood_sens_c']=cleaned['older_1999']+cleaned['mobile_home']\n",
    "calc_from_raw['flood_adapt_c']=cleaned['beds_1000']+cleaned['w_quality']\n",
    "\n",
    "\n",
    "#drought - sensitivity and adaption unique\n",
    "calc_from_raw['drought_sens_c']=cleaned['GDP_water_all']+cleaned['perc_fff']\n",
    "calc_from_raw['drought_adapt_c']=cleaned['d_plan']+cleaned['w_plan']\n",
    "calc_from_raw.dropna(inplace=True)\n"
   ]
  },
  {
   "cell_type": "markdown",
   "metadata": {},
   "source": [
    "# Calculate Summary Values for categories"
   ]
  },
  {
   "cell_type": "code",
   "execution_count": null,
   "metadata": {},
   "outputs": [],
   "source": [
    "''' Study standardized then used standardized versions\n",
    "next stage\n",
    "'''\n",
    "from sklearn.preprocessing import StandardScaler\n",
    "\n",
    "prescale_table=calc_from_raw.drop(columns=['cities'])\n",
    "prescale_features=prescale_table.columns\n",
    "scaler=StandardScaler()\n",
    "calc_hazard_stand=scaler.fit_transform(prescale_table)\n",
    "calc_from_raw_scaled =pd.DataFrame(calc_hazard_stand, columns=prescale_features)\n",
    "#calc_from_raw_scaled['cities']= cities\n",
    "\n",
    "\n",
    "risk_recovery_calc=pd.DataFrame()\n",
    "risk_recovery_calc['cities']= cities\n",
    "#Readiness is the value for all hazards so it will only be done once\n",
    "risk_recovery_calc['readiness_c']=(calc_from_raw_scaled['gov_c']+calc_from_raw_scaled['social_c']+calc_from_raw_scaled['econ_c'])/3\n",
    "\n",
    "                                                                                                         \n",
    "risk_recovery_calc['heat_risk']=(calc_from_raw_scaled['expos_c']+calc_from_raw_scaled['heat_adapt_c']+(1-calc_from_raw_scaled['heat_sens_c']))/3\n",
    "risk_recovery_calc['cold_risk']=(calc_from_raw_scaled['expos_c']+calc_from_raw_scaled['cold_adapt_c']+(1-calc_from_raw_scaled['cold_sens_c']))/3\n",
    "risk_recovery_calc['flood_risk']=(calc_from_raw_scaled['flood_expos_c']+calc_from_raw_scaled['flood_adapt_c']+(1-calc_from_raw_scaled['flood_sens_c']))/3\n",
    "risk_recovery_calc['drought_risk']=(calc_from_raw_scaled['expos_c']+calc_from_raw_scaled['drought_adapt_c']+(1-calc_from_raw_scaled['drought_sens_c']))/3\n",
    "risk_recovery_calc['risk_c']=risk_recovery_calc['heat_risk']+risk_recovery_calc['cold_risk']+risk_recovery_calc['flood_risk']     \n",
    "risk_recovery_calc.dropna(inplace=True)"
   ]
  }
 ],
 "metadata": {
  "kernelspec": {
   "display_name": "Python 3",
   "language": "python",
   "name": "python3"
  },
  "language_info": {
   "codemirror_mode": {
    "name": "ipython",
    "version": 3
   },
   "file_extension": ".py",
   "mimetype": "text/x-python",
   "name": "python",
   "nbconvert_exporter": "python",
   "pygments_lexer": "ipython3",
   "version": "3.6.9"
  }
 },
 "nbformat": 4,
 "nbformat_minor": 2
}
